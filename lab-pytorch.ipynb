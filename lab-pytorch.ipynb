{
  "cells": [
    {
      "cell_type": "markdown",
      "id": "49b68a6a-8d82-4210-8c0a-0a6eaa49f62e",
      "metadata": {
        "id": "49b68a6a-8d82-4210-8c0a-0a6eaa49f62e"
      },
      "source": [
        "# Pytorch exercises"
      ]
    },
    {
      "cell_type": "markdown",
      "id": "1094e566-47c6-4ab1-9035-a023efd5fb43",
      "metadata": {
        "id": "1094e566-47c6-4ab1-9035-a023efd5fb43"
      },
      "source": [
        "Exercise 1: Write a PyTorch code to create a tensor of size (3, 3) filled with random values between 0 and 1."
      ]
    },
    {
      "cell_type": "code",
      "source": [
        "import torch\n",
        "\n",
        "# Create a tensor of size (3, 3) with random values between 0 and 1\n",
        "tensor1 = torch.rand((3, 3))\n",
        "print(tensor1)"
      ],
      "metadata": {
        "id": "KkWbpie0YxA2",
        "outputId": "7482cac8-22a8-436f-f7f7-712f08e458fb",
        "colab": {
          "base_uri": "https://localhost:8080/"
        }
      },
      "id": "KkWbpie0YxA2",
      "execution_count": 1,
      "outputs": [
        {
          "output_type": "stream",
          "name": "stdout",
          "text": [
            "tensor([[0.1825, 0.2663, 0.7229],\n",
            "        [0.8638, 0.4104, 0.2635],\n",
            "        [0.4907, 0.6097, 0.9187]])\n"
          ]
        }
      ]
    },
    {
      "cell_type": "markdown",
      "id": "9098d6da-dab2-4295-8800-1144dc621aa1",
      "metadata": {
        "id": "9098d6da-dab2-4295-8800-1144dc621aa1"
      },
      "source": [
        "Exercise 2:\n",
        "Create a tensor of size (5, 2) filled with zeros."
      ]
    },
    {
      "cell_type": "code",
      "source": [
        "# Create a tensor of size (5, 2) filled with zeros\n",
        "tensor2 = torch.zeros((5, 2))\n",
        "print(tensor2)"
      ],
      "metadata": {
        "id": "Hut9RtR6YxXV",
        "outputId": "2214c12c-93aa-4ede-9cb8-edc3d7d8407d",
        "colab": {
          "base_uri": "https://localhost:8080/"
        }
      },
      "id": "Hut9RtR6YxXV",
      "execution_count": 2,
      "outputs": [
        {
          "output_type": "stream",
          "name": "stdout",
          "text": [
            "tensor([[0., 0.],\n",
            "        [0., 0.],\n",
            "        [0., 0.],\n",
            "        [0., 0.],\n",
            "        [0., 0.]])\n"
          ]
        }
      ]
    },
    {
      "cell_type": "markdown",
      "id": "20f77911-49bc-4086-9dcc-6e59543a2216",
      "metadata": {
        "id": "20f77911-49bc-4086-9dcc-6e59543a2216"
      },
      "source": [
        "Exercise 3:\n",
        "Implement a PyTorch code to multiply two tensors of size (2, 3) and (3, 4) respectively."
      ]
    },
    {
      "cell_type": "code",
      "source": [
        "# Create two tensors of size (2, 3) and (3, 4)\n",
        "tensor3a = torch.rand((2, 3))\n",
        "tensor3b = torch.rand((3, 4))\n",
        "\n",
        "# Multiply the tensors\n",
        "result3 = torch.matmul(tensor3a, tensor3b)\n",
        "print(result3)"
      ],
      "metadata": {
        "id": "T1nR17VRYxs5",
        "outputId": "9236f504-753b-4a71-f60a-17185a7a03f7",
        "colab": {
          "base_uri": "https://localhost:8080/"
        }
      },
      "id": "T1nR17VRYxs5",
      "execution_count": 3,
      "outputs": [
        {
          "output_type": "stream",
          "name": "stdout",
          "text": [
            "tensor([[0.8309, 0.7805, 0.8519, 0.9325],\n",
            "        [0.5006, 0.5612, 0.6138, 0.6305]])\n"
          ]
        }
      ]
    },
    {
      "cell_type": "markdown",
      "id": "b7e71a2d-8c07-49d6-bde9-f40628bff3f5",
      "metadata": {
        "id": "b7e71a2d-8c07-49d6-bde9-f40628bff3f5"
      },
      "source": [
        "Exercise 4:\n",
        "Create a PyTorch tensor with values ranging from 5 to 10."
      ]
    },
    {
      "cell_type": "code",
      "source": [
        "# Create a tensor with values ranging from 5 to 10\n",
        "tensor4 = torch.arange(5, 11)\n",
        "print(tensor4)"
      ],
      "metadata": {
        "id": "gyOnePicYyI5",
        "outputId": "1894fb59-19f7-4872-f000-d74f4f918fb8",
        "colab": {
          "base_uri": "https://localhost:8080/"
        }
      },
      "id": "gyOnePicYyI5",
      "execution_count": 4,
      "outputs": [
        {
          "output_type": "stream",
          "name": "stdout",
          "text": [
            "tensor([ 5,  6,  7,  8,  9, 10])\n"
          ]
        }
      ]
    },
    {
      "cell_type": "markdown",
      "id": "f97b337b-6277-42d2-b3e3-fd8a0afe9d34",
      "metadata": {
        "id": "f97b337b-6277-42d2-b3e3-fd8a0afe9d34"
      },
      "source": [
        "Exercise 5:\n",
        "Write a PyTorch code to compute the mean of a tensor."
      ]
    },
    {
      "cell_type": "code",
      "source": [
        "# Create a tensor\n",
        "tensor5 = torch.rand((3, 3))\n",
        "\n",
        "# Compute the mean of the tensor\n",
        "mean5 = tensor5.mean()\n",
        "print(mean5)"
      ],
      "metadata": {
        "id": "kBIUQu_NYyW2",
        "outputId": "962bac5e-e84d-4c1c-cb80-9db8dd06147b",
        "colab": {
          "base_uri": "https://localhost:8080/"
        }
      },
      "id": "kBIUQu_NYyW2",
      "execution_count": 5,
      "outputs": [
        {
          "output_type": "stream",
          "name": "stdout",
          "text": [
            "tensor(0.4382)\n"
          ]
        }
      ]
    },
    {
      "cell_type": "markdown",
      "id": "6d9025a2-86df-469e-905d-5ae2189d2882",
      "metadata": {
        "id": "6d9025a2-86df-469e-905d-5ae2189d2882"
      },
      "source": [
        "Exercise 6:\n",
        "Implement a PyTorch code to compute the element-wise product of two tensors of the same size."
      ]
    },
    {
      "cell_type": "code",
      "source": [
        "# Create two tensors of the same size\n",
        "tensor6a = torch.rand((3, 3))\n",
        "tensor6b = torch.rand((3, 3))\n",
        "\n",
        "# Compute the element-wise product\n",
        "result6 = tensor6a * tensor6b\n",
        "print(result6)"
      ],
      "metadata": {
        "id": "QVQwS09fYyuS",
        "outputId": "87dd7580-0306-459b-bde9-3e03335edd65",
        "colab": {
          "base_uri": "https://localhost:8080/"
        }
      },
      "id": "QVQwS09fYyuS",
      "execution_count": 6,
      "outputs": [
        {
          "output_type": "stream",
          "name": "stdout",
          "text": [
            "tensor([[0.6329, 0.0947, 0.4348],\n",
            "        [0.1855, 0.8131, 0.7126],\n",
            "        [0.0361, 0.1519, 0.4298]])\n"
          ]
        }
      ]
    },
    {
      "cell_type": "markdown",
      "id": "6f5d4a20-f9fb-440a-92fa-14c7232954cf",
      "metadata": {
        "id": "6f5d4a20-f9fb-440a-92fa-14c7232954cf"
      },
      "source": [
        "Exercise 7:\n",
        "Create a PyTorch tensor with values sampled from a normal distribution with mean 0 and standard deviation 1."
      ]
    },
    {
      "cell_type": "code",
      "source": [
        "# Create a tensor with values sampled from a normal distribution\n",
        "tensor7 = torch.randn((3, 3))\n",
        "print(tensor7)\n"
      ],
      "metadata": {
        "id": "B0D5xFhzYzCz",
        "outputId": "7223f993-8f90-40f2-f70d-f37423e38b83",
        "colab": {
          "base_uri": "https://localhost:8080/"
        }
      },
      "id": "B0D5xFhzYzCz",
      "execution_count": 7,
      "outputs": [
        {
          "output_type": "stream",
          "name": "stdout",
          "text": [
            "tensor([[-0.7107, -0.3093,  0.1746],\n",
            "        [ 1.9801,  0.5439,  0.7717],\n",
            "        [-0.5176,  0.5169, -1.1159]])\n"
          ]
        }
      ]
    },
    {
      "cell_type": "markdown",
      "id": "eaaf5142-be8b-41fe-9f5f-93d76a865c95",
      "metadata": {
        "id": "eaaf5142-be8b-41fe-9f5f-93d76a865c95"
      },
      "source": [
        "Exercise 8:\n",
        "Write a PyTorch code to find the maximum value in a tensor."
      ]
    },
    {
      "cell_type": "code",
      "source": [
        "# Create a tensor\n",
        "tensor8 = torch.rand((3, 3))\n",
        "\n",
        "# Find the maximum value in the tensor\n",
        "max8 = tensor8.max()\n",
        "print(max8)\n"
      ],
      "metadata": {
        "id": "3u46IyCFYzhe",
        "outputId": "1521f046-e4b1-45e5-9190-0ac5c4d1c24b",
        "colab": {
          "base_uri": "https://localhost:8080/"
        }
      },
      "id": "3u46IyCFYzhe",
      "execution_count": 8,
      "outputs": [
        {
          "output_type": "stream",
          "name": "stdout",
          "text": [
            "tensor(0.9342)\n"
          ]
        }
      ]
    },
    {
      "cell_type": "markdown",
      "id": "a0fafddc-7d69-40f0-ac39-ac6f8efd463f",
      "metadata": {
        "id": "a0fafddc-7d69-40f0-ac39-ac6f8efd463f"
      },
      "source": [
        "Exercise 9:\n",
        "Implement a PyTorch code to compute the cross entropy loss between predicted values and target values."
      ]
    },
    {
      "cell_type": "code",
      "source": [
        "import torch.nn as nn\n",
        "\n",
        "# Create predicted and target tensors\n",
        "predicted = torch.tensor([[0.2, 0.3, 0.5], [0.1, 0.6, 0.3]], requires_grad=True)\n",
        "target = torch.tensor([2, 1])\n",
        "\n",
        "# Compute the cross entropy loss\n",
        "loss_fn = nn.CrossEntropyLoss()\n",
        "loss9 = loss_fn(predicted, target)\n",
        "print(loss9)\n"
      ],
      "metadata": {
        "id": "htoTnUe_Yzw2",
        "outputId": "64c836a5-de38-47d4-916a-c1865cdbb136",
        "colab": {
          "base_uri": "https://localhost:8080/"
        }
      },
      "id": "htoTnUe_Yzw2",
      "execution_count": 9,
      "outputs": [
        {
          "output_type": "stream",
          "name": "stdout",
          "text": [
            "tensor(0.8966, grad_fn=<NllLossBackward0>)\n"
          ]
        }
      ]
    },
    {
      "cell_type": "markdown",
      "id": "f884a16c-5af5-4d98-9567-19832a24df1a",
      "metadata": {
        "id": "f884a16c-5af5-4d98-9567-19832a24df1a"
      },
      "source": [
        "Exercise 10: Create a PyTorch tensor and then convert it to a NumPy array."
      ]
    },
    {
      "cell_type": "code",
      "source": [
        "# Create a tensor\n",
        "tensor10 = torch.rand((3, 3))\n",
        "\n",
        "# Convert it to a NumPy array\n",
        "numpy_array10 = tensor10.numpy()\n",
        "print(numpy_array10)\n"
      ],
      "metadata": {
        "id": "nlJ6awtUY0w9",
        "outputId": "77bc8684-4b07-49c2-8a6d-7928e724a949",
        "colab": {
          "base_uri": "https://localhost:8080/"
        }
      },
      "id": "nlJ6awtUY0w9",
      "execution_count": 10,
      "outputs": [
        {
          "output_type": "stream",
          "name": "stdout",
          "text": [
            "[[0.6565436  0.1349554  0.68663156]\n",
            " [0.6587776  0.884874   0.13497645]\n",
            " [0.5857414  0.7171008  0.9324497 ]]\n"
          ]
        }
      ]
    },
    {
      "cell_type": "markdown",
      "id": "b184819f-0ecb-4a45-a3c2-e8ab40219709",
      "metadata": {
        "id": "b184819f-0ecb-4a45-a3c2-e8ab40219709"
      },
      "source": [
        "Exercise 11:\n",
        "Write a PyTorch code to perform a matrix transpose operation on a tensor."
      ]
    },
    {
      "cell_type": "code",
      "source": [
        "# Create a tensor\n",
        "tensor11 = torch.rand((3, 4))\n",
        "\n",
        "# Perform a matrix transpose operation\n",
        "transposed11 = tensor11.t()\n",
        "print(transposed11)\n"
      ],
      "metadata": {
        "id": "f9HVJhYVY1Ca",
        "outputId": "a3a31316-cfb1-4927-ebc3-7abd698255ae",
        "colab": {
          "base_uri": "https://localhost:8080/"
        }
      },
      "id": "f9HVJhYVY1Ca",
      "execution_count": 11,
      "outputs": [
        {
          "output_type": "stream",
          "name": "stdout",
          "text": [
            "tensor([[0.9800, 0.2377, 0.7749],\n",
            "        [0.0522, 0.6521, 0.2156],\n",
            "        [0.3806, 0.3458, 0.8748],\n",
            "        [0.8255, 0.8126, 0.7158]])\n"
          ]
        }
      ]
    },
    {
      "cell_type": "markdown",
      "id": "aba9c7e6-954a-4afb-8892-9cc876e1a31c",
      "metadata": {
        "id": "aba9c7e6-954a-4afb-8892-9cc876e1a31c"
      },
      "source": [
        "Exercise 12:\n",
        "Implement a PyTorch code to concatenate two tensors along a specified dimension."
      ]
    },
    {
      "cell_type": "code",
      "source": [
        "# Create two tensors\n",
        "tensor12a = torch.rand((2, 3))\n",
        "tensor12b = torch.rand((2, 3))\n",
        "\n",
        "# Concatenate the tensors along dimension 0\n",
        "concatenated12 = torch.cat((tensor12a, tensor12b), dim=0)\n",
        "print(concatenated12)\n"
      ],
      "metadata": {
        "id": "iF8t5d39Y1SH",
        "outputId": "34e33353-0c45-43c6-f930-f6c87019d0f6",
        "colab": {
          "base_uri": "https://localhost:8080/"
        }
      },
      "id": "iF8t5d39Y1SH",
      "execution_count": 12,
      "outputs": [
        {
          "output_type": "stream",
          "name": "stdout",
          "text": [
            "tensor([[0.2794, 0.9280, 0.3132],\n",
            "        [0.8857, 0.1623, 0.7768],\n",
            "        [0.3947, 0.4907, 0.9867],\n",
            "        [0.7685, 0.4215, 0.0117]])\n"
          ]
        }
      ]
    },
    {
      "cell_type": "markdown",
      "id": "d5cb17dc-1092-475d-b1a8-e788125d8cae",
      "metadata": {
        "id": "d5cb17dc-1092-475d-b1a8-e788125d8cae"
      },
      "source": [
        "Exercise 13:\n",
        "Create a PyTorch tensor and then convert it to a CUDA tensor if CUDA is available."
      ]
    },
    {
      "cell_type": "code",
      "source": [
        "# Create a tensor\n",
        "tensor13 = torch.rand((3, 3))\n",
        "\n",
        "# Convert it to a CUDA tensor if CUDA is available\n",
        "if torch.cuda.is_available():\n",
        "    tensor13 = tensor13.to('cuda')\n",
        "print(tensor13)\n"
      ],
      "metadata": {
        "id": "PJebPDMIY11g",
        "outputId": "d937c221-c709-4424-def8-0a798132c0c8",
        "colab": {
          "base_uri": "https://localhost:8080/"
        }
      },
      "id": "PJebPDMIY11g",
      "execution_count": 13,
      "outputs": [
        {
          "output_type": "stream",
          "name": "stdout",
          "text": [
            "tensor([[0.7518, 0.0843, 0.3499],\n",
            "        [0.8766, 0.8022, 0.2937],\n",
            "        [0.9676, 0.8720, 0.7940]])\n"
          ]
        }
      ]
    },
    {
      "cell_type": "markdown",
      "id": "5f18a6ee-691d-480b-ae73-d4e1fa118add",
      "metadata": {
        "id": "5f18a6ee-691d-480b-ae73-d4e1fa118add"
      },
      "source": [
        "Exercise 14:\n",
        "Write a PyTorch code to find the indices of non-zero elements in a tensor."
      ]
    },
    {
      "cell_type": "code",
      "source": [
        "# Create a tensor\n",
        "tensor14 = torch.tensor([[0, 1, 0], [2, 0, 3]])\n",
        "\n",
        "# Find the indices of non-zero elements\n",
        "non_zero_indices14 = torch.nonzero(tensor14)\n",
        "print(non_zero_indices14)\n"
      ],
      "metadata": {
        "id": "FZy77CaWY2DN",
        "outputId": "a569d795-c4d6-4974-fa25-0022e1864de3",
        "colab": {
          "base_uri": "https://localhost:8080/"
        }
      },
      "id": "FZy77CaWY2DN",
      "execution_count": 14,
      "outputs": [
        {
          "output_type": "stream",
          "name": "stdout",
          "text": [
            "tensor([[0, 1],\n",
            "        [1, 0],\n",
            "        [1, 2]])\n"
          ]
        }
      ]
    },
    {
      "cell_type": "markdown",
      "id": "57417899-4ff0-466f-9b33-6a2a11161e02",
      "metadata": {
        "id": "57417899-4ff0-466f-9b33-6a2a11161e02"
      },
      "source": [
        "Exercise 15:\n",
        "Implement a PyTorch code to perform element-wise exponentiation on a tensor."
      ]
    },
    {
      "cell_type": "code",
      "source": [
        "# Create a tensor\n",
        "tensor15 = torch.rand((3, 3))\n",
        "\n",
        "# Perform element-wise exponentiation\n",
        "exponentiated15 = torch.exp(tensor15)\n",
        "print(exponentiated15)\n"
      ],
      "metadata": {
        "id": "V5UrSKZ7Y2Y4",
        "outputId": "0975b155-ae1a-4fac-838e-cedfd555345e",
        "colab": {
          "base_uri": "https://localhost:8080/"
        }
      },
      "id": "V5UrSKZ7Y2Y4",
      "execution_count": 15,
      "outputs": [
        {
          "output_type": "stream",
          "name": "stdout",
          "text": [
            "tensor([[2.2821, 1.0930, 1.4377],\n",
            "        [1.5754, 2.5230, 1.8676],\n",
            "        [1.7566, 2.5493, 1.9758]])\n"
          ]
        }
      ]
    },
    {
      "cell_type": "markdown",
      "id": "535fa4bd-67fe-4fd8-aa8d-e854f2590558",
      "metadata": {
        "id": "535fa4bd-67fe-4fd8-aa8d-e854f2590558"
      },
      "source": [
        "Exercise 16:\n",
        "Create a PyTorch tensor and then reshape it into a tensor of different dimensions."
      ]
    },
    {
      "cell_type": "code",
      "source": [
        "# Create a tensor\n",
        "tensor16 = torch.rand((2, 6))\n",
        "\n",
        "# Reshape it into a tensor of different dimensions\n",
        "reshaped16 = tensor16.view((3, 4))\n",
        "print(reshaped16)\n"
      ],
      "metadata": {
        "id": "ZEHeYL8VY2nU",
        "outputId": "ff2576ad-b8dc-408e-f7cb-e9b5ebf57b8d",
        "colab": {
          "base_uri": "https://localhost:8080/"
        }
      },
      "id": "ZEHeYL8VY2nU",
      "execution_count": 16,
      "outputs": [
        {
          "output_type": "stream",
          "name": "stdout",
          "text": [
            "tensor([[0.1987, 0.4849, 0.3197, 0.8512],\n",
            "        [0.0644, 0.2549, 0.9454, 0.1683],\n",
            "        [0.8043, 0.8217, 0.2788, 0.0564]])\n"
          ]
        }
      ]
    },
    {
      "cell_type": "markdown",
      "id": "4e7b7502-e668-4567-a8b3-5f6bc840beb2",
      "metadata": {
        "id": "4e7b7502-e668-4567-a8b3-5f6bc840beb2"
      },
      "source": [
        "Exercise 17:\n",
        "Write a PyTorch code to compute the cosine similarity between two tensors."
      ]
    },
    {
      "cell_type": "code",
      "source": [
        "import torch.nn.functional as F\n",
        "\n",
        "# Create two tensors\n",
        "tensor17a = torch.rand((3,))\n",
        "tensor17b = torch.rand((3,))\n",
        "\n",
        "# Compute the cosine similarity\n",
        "cosine_similarity17 = F.cosine_similarity(tensor17a.unsqueeze(0), tensor17b.unsqueeze(0))\n",
        "print(cosine_similarity17)\n"
      ],
      "metadata": {
        "id": "oAXMDo3bY2-g",
        "outputId": "8b3d988b-a7d6-4aae-afcb-0eb5d4177c40",
        "colab": {
          "base_uri": "https://localhost:8080/"
        }
      },
      "id": "oAXMDo3bY2-g",
      "execution_count": 17,
      "outputs": [
        {
          "output_type": "stream",
          "name": "stdout",
          "text": [
            "tensor([0.9936])\n"
          ]
        }
      ]
    },
    {
      "cell_type": "markdown",
      "id": "d13b01c7-00b0-4e05-a233-3e1177a88f86",
      "metadata": {
        "id": "d13b01c7-00b0-4e05-a233-3e1177a88f86"
      },
      "source": [
        "Exercise 18: Implement a PyTorch code to perform element-wise logarithm on a tensor."
      ]
    },
    {
      "cell_type": "code",
      "source": [
        "# Create a tensor\n",
        "tensor18 = torch.rand((3, 3))\n",
        "\n",
        "# Perform element-wise logarithm\n",
        "logarithm18 = torch.log(tensor18)\n",
        "print(logarithm18)\n"
      ],
      "metadata": {
        "id": "SVchXIM1Y3Qb",
        "outputId": "61180b39-d1b2-4636-e3d8-2fe4f07e6c34",
        "colab": {
          "base_uri": "https://localhost:8080/"
        }
      },
      "id": "SVchXIM1Y3Qb",
      "execution_count": 18,
      "outputs": [
        {
          "output_type": "stream",
          "name": "stdout",
          "text": [
            "tensor([[-1.4011, -0.6505, -0.0455],\n",
            "        [-0.3269, -0.1327, -0.6186],\n",
            "        [-0.0249, -1.6005, -1.0548]])\n"
          ]
        }
      ]
    },
    {
      "cell_type": "markdown",
      "id": "f12264f6-d86c-42ca-ab15-6ae5162321e3",
      "metadata": {
        "id": "f12264f6-d86c-42ca-ab15-6ae5162321e3"
      },
      "source": [
        "Exercise 19:\n",
        "Create a PyTorch tensor and then calculate its standard deviation."
      ]
    },
    {
      "cell_type": "code",
      "source": [
        "# Create a tensor\n",
        "tensor19 = torch.rand((3, 3))\n",
        "\n",
        "# Calculate its standard deviation\n",
        "std19 = tensor19.std()\n",
        "print(std19)\n"
      ],
      "metadata": {
        "id": "irqEd90MY3mX",
        "outputId": "2ab3bd17-6864-4b67-c04a-98d63a019f84",
        "colab": {
          "base_uri": "https://localhost:8080/"
        }
      },
      "id": "irqEd90MY3mX",
      "execution_count": 19,
      "outputs": [
        {
          "output_type": "stream",
          "name": "stdout",
          "text": [
            "tensor(0.2873)\n"
          ]
        }
      ]
    },
    {
      "cell_type": "markdown",
      "id": "da281285-f8ba-4020-ba33-dfeb3524f29c",
      "metadata": {
        "id": "da281285-f8ba-4020-ba33-dfeb3524f29c"
      },
      "source": [
        "Exercice 20: Write a PyTorch code to compute the Frobenius norm of a tensor."
      ]
    },
    {
      "cell_type": "code",
      "source": [
        "# Create a tensor\n",
        "tensor20 = torch.rand((3, 3))\n",
        "\n",
        "# Compute the Frobenius norm of the tensor\n",
        "frobenius_norm20 = torch.norm(tensor20)\n",
        "print(frobenius_norm20)\n"
      ],
      "metadata": {
        "id": "dOLUFmLcY32R",
        "outputId": "549e49af-eb8d-4efc-adf0-17350c1d31aa",
        "colab": {
          "base_uri": "https://localhost:8080/"
        }
      },
      "id": "dOLUFmLcY32R",
      "execution_count": 20,
      "outputs": [
        {
          "output_type": "stream",
          "name": "stdout",
          "text": [
            "tensor(1.5816)\n"
          ]
        }
      ]
    },
    {
      "cell_type": "code",
      "execution_count": null,
      "id": "8bd27eee-8270-43d0-a785-9acdbd6424d1",
      "metadata": {
        "id": "8bd27eee-8270-43d0-a785-9acdbd6424d1"
      },
      "outputs": [],
      "source": []
    }
  ],
  "metadata": {
    "kernelspec": {
      "display_name": "Python 3 (ipykernel)",
      "language": "python",
      "name": "python3"
    },
    "language_info": {
      "codemirror_mode": {
        "name": "ipython",
        "version": 3
      },
      "file_extension": ".py",
      "mimetype": "text/x-python",
      "name": "python",
      "nbconvert_exporter": "python",
      "pygments_lexer": "ipython3",
      "version": "3.11.8"
    },
    "colab": {
      "provenance": []
    }
  },
  "nbformat": 4,
  "nbformat_minor": 5
}